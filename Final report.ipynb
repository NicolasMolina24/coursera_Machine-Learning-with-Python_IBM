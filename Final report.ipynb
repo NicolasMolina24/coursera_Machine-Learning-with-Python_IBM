{
 "cells": [
  {
   "cell_type": "markdown",
   "id": "257bc599-115f-495d-bb14-5a0a3a4b9011",
   "metadata": {},
   "source": [
    "Descargando los datos de prueba y test"
   ]
  },
  {
   "cell_type": "code",
   "execution_count": 1,
   "id": "a78f003b-2fee-485f-beda-d38def88af3e",
   "metadata": {},
   "outputs": [
    {
     "name": "stdout",
     "output_type": "stream",
     "text": [
      "--2021-06-08 17:00:55--  https://s3-api.us-geo.objectstorage.softlayer.net/cf-courses-data/CognitiveClass/ML0101ENv3/labs/loan_train.csv\n",
      "Resolving s3-api.us-geo.objectstorage.softlayer.net (s3-api.us-geo.objectstorage.softlayer.net)... 67.228.254.196\n",
      "Connecting to s3-api.us-geo.objectstorage.softlayer.net (s3-api.us-geo.objectstorage.softlayer.net)|67.228.254.196|:443... connected.\n",
      "HTTP request sent, awaiting response... 200 OK\n",
      "Length: 23101 (23K) [text/csv]\n",
      "Saving to: ‘loan_train.csv’\n",
      "\n",
      "loan_train.csv      100%[===================>]  22.56K  --.-KB/s    in 0s      \n",
      "\n",
      "2021-06-08 17:00:55 (56.1 MB/s) - ‘loan_train.csv’ saved [23101/23101]\n",
      "\n"
     ]
    }
   ],
   "source": [
    "!wget -O loan_train.csv https://s3-api.us-geo.objectstorage.softlayer.net/cf-courses-data/CognitiveClass/ML0101ENv3/labs/loan_train.csv"
   ]
  },
  {
   "cell_type": "code",
   "execution_count": 2,
   "id": "f623f2cf-62cb-4361-9af5-b9a6ccf98f87",
   "metadata": {},
   "outputs": [
    {
     "name": "stdout",
     "output_type": "stream",
     "text": [
      "--2021-06-08 17:00:55--  https://s3-api.us-geo.objectstorage.softlayer.net/cf-courses-data/CognitiveClass/ML0101ENv3/labs/loan_test.csv\n",
      "Resolving s3-api.us-geo.objectstorage.softlayer.net (s3-api.us-geo.objectstorage.softlayer.net)... 67.228.254.196\n",
      "Connecting to s3-api.us-geo.objectstorage.softlayer.net (s3-api.us-geo.objectstorage.softlayer.net)|67.228.254.196|:443... connected.\n",
      "HTTP request sent, awaiting response... 200 OK\n",
      "Length: 3642 (3.6K) [text/csv]\n",
      "Saving to: ‘loan_test.csv’\n",
      "\n",
      "loan_test.csv       100%[===================>]   3.56K  --.-KB/s    in 0s      \n",
      "\n",
      "2021-06-08 17:00:55 (107 MB/s) - ‘loan_test.csv’ saved [3642/3642]\n",
      "\n"
     ]
    }
   ],
   "source": [
    "!wget -O loan_test.csv https://s3-api.us-geo.objectstorage.softlayer.net/cf-courses-data/CognitiveClass/ML0101ENv3/labs/loan_test.csv"
   ]
  },
  {
   "cell_type": "code",
   "execution_count": 3,
   "id": "33c66391-c2f4-42df-8206-2edff2a175fe",
   "metadata": {},
   "outputs": [
    {
     "name": "stdout",
     "output_type": "stream",
     "text": [
      "Requirement already satisfied: scikit-learn==0.23.1 in /home/jupyterlab/conda/envs/python/lib/python3.6/site-packages (0.23.1)\n",
      "Requirement already satisfied: scipy>=0.19.1 in /home/jupyterlab/conda/envs/python/lib/python3.6/site-packages (from scikit-learn==0.23.1) (1.5.3)\n",
      "Requirement already satisfied: threadpoolctl>=2.0.0 in /home/jupyterlab/conda/envs/python/lib/python3.6/site-packages (from scikit-learn==0.23.1) (2.1.0)\n",
      "Requirement already satisfied: numpy>=1.13.3 in /home/jupyterlab/conda/envs/python/lib/python3.6/site-packages (from scikit-learn==0.23.1) (1.19.5)\n",
      "Requirement already satisfied: joblib>=0.11 in /home/jupyterlab/conda/envs/python/lib/python3.6/site-packages (from scikit-learn==0.23.1) (1.0.1)\n"
     ]
    }
   ],
   "source": [
    "!pip install scikit-learn==0.23.1"
   ]
  },
  {
   "cell_type": "code",
   "execution_count": 4,
   "id": "1f9267e9-1a01-4598-a923-2de312b1fddf",
   "metadata": {},
   "outputs": [],
   "source": [
    "from sklearn.metrics import classification_report, confusion_matrix\n",
    "from sklearn.model_selection import train_test_split\n",
    "from sklearn.linear_model import LogisticRegression\n",
    "from sklearn.neighbors import KNeighborsClassifier\n",
    "from sklearn.tree import DecisionTreeClassifier\n",
    "from sklearn.metrics import confusion_matrix\n",
    "from sklearn.metrics import accuracy_score\n",
    "from sklearn.metrics import jaccard_score\n",
    "from sklearn.metrics import log_loss\n",
    "from sklearn.metrics import f1_score\n",
    "from sklearn import preprocessing\n",
    "import matplotlib.pyplot as plt\n",
    "import scipy.optimize as opt\n",
    "from sklearn import metrics\n",
    "from sklearn import svm\n",
    "from math import sqrt\n",
    "import pandas as pd\n",
    "import numpy as np\n",
    "import pylab as pl\n",
    "import itertools\n",
    "%matplotlib inline "
   ]
  },
  {
   "cell_type": "code",
   "execution_count": 5,
   "id": "824cd12b-c4ba-4a68-9468-757756779cce",
   "metadata": {},
   "outputs": [],
   "source": [
    "#Storing the movie information into a pandas dataframe\n",
    "loan_train_df = pd.read_csv('loan_train.csv')\n",
    "#Storing the user information into a pandas dataframe\n",
    "loan_test_df = pd.read_csv('loan_test.csv')"
   ]
  },
  {
   "cell_type": "code",
   "execution_count": 6,
   "id": "f108210a-4b56-44e7-a15d-4de159ef2f0e",
   "metadata": {},
   "outputs": [
    {
     "data": {
      "text/plain": [
       "346"
      ]
     },
     "execution_count": 6,
     "metadata": {},
     "output_type": "execute_result"
    }
   ],
   "source": [
    "len(loan_train_df)"
   ]
  },
  {
   "cell_type": "code",
   "execution_count": 7,
   "id": "dfbc579d-2177-4a12-a03b-50bafbd7885f",
   "metadata": {},
   "outputs": [
    {
     "data": {
      "text/html": [
       "<div>\n",
       "<style scoped>\n",
       "    .dataframe tbody tr th:only-of-type {\n",
       "        vertical-align: middle;\n",
       "    }\n",
       "\n",
       "    .dataframe tbody tr th {\n",
       "        vertical-align: top;\n",
       "    }\n",
       "\n",
       "    .dataframe thead th {\n",
       "        text-align: right;\n",
       "    }\n",
       "</style>\n",
       "<table border=\"1\" class=\"dataframe\">\n",
       "  <thead>\n",
       "    <tr style=\"text-align: right;\">\n",
       "      <th></th>\n",
       "      <th>Unnamed: 0</th>\n",
       "      <th>Unnamed: 0.1</th>\n",
       "      <th>loan_status</th>\n",
       "      <th>Principal</th>\n",
       "      <th>terms</th>\n",
       "      <th>effective_date</th>\n",
       "      <th>due_date</th>\n",
       "      <th>age</th>\n",
       "      <th>education</th>\n",
       "      <th>Gender</th>\n",
       "    </tr>\n",
       "  </thead>\n",
       "  <tbody>\n",
       "    <tr>\n",
       "      <th>341</th>\n",
       "      <td>394</td>\n",
       "      <td>394</td>\n",
       "      <td>COLLECTION</td>\n",
       "      <td>800</td>\n",
       "      <td>15</td>\n",
       "      <td>9/11/2016</td>\n",
       "      <td>9/25/2016</td>\n",
       "      <td>32</td>\n",
       "      <td>High School or Below</td>\n",
       "      <td>male</td>\n",
       "    </tr>\n",
       "    <tr>\n",
       "      <th>342</th>\n",
       "      <td>395</td>\n",
       "      <td>395</td>\n",
       "      <td>COLLECTION</td>\n",
       "      <td>1000</td>\n",
       "      <td>30</td>\n",
       "      <td>9/11/2016</td>\n",
       "      <td>10/10/2016</td>\n",
       "      <td>25</td>\n",
       "      <td>High School or Below</td>\n",
       "      <td>male</td>\n",
       "    </tr>\n",
       "    <tr>\n",
       "      <th>343</th>\n",
       "      <td>397</td>\n",
       "      <td>397</td>\n",
       "      <td>COLLECTION</td>\n",
       "      <td>800</td>\n",
       "      <td>15</td>\n",
       "      <td>9/12/2016</td>\n",
       "      <td>9/26/2016</td>\n",
       "      <td>39</td>\n",
       "      <td>college</td>\n",
       "      <td>male</td>\n",
       "    </tr>\n",
       "    <tr>\n",
       "      <th>344</th>\n",
       "      <td>398</td>\n",
       "      <td>398</td>\n",
       "      <td>COLLECTION</td>\n",
       "      <td>1000</td>\n",
       "      <td>30</td>\n",
       "      <td>9/12/2016</td>\n",
       "      <td>11/10/2016</td>\n",
       "      <td>28</td>\n",
       "      <td>college</td>\n",
       "      <td>male</td>\n",
       "    </tr>\n",
       "    <tr>\n",
       "      <th>345</th>\n",
       "      <td>399</td>\n",
       "      <td>399</td>\n",
       "      <td>COLLECTION</td>\n",
       "      <td>1000</td>\n",
       "      <td>30</td>\n",
       "      <td>9/12/2016</td>\n",
       "      <td>10/11/2016</td>\n",
       "      <td>26</td>\n",
       "      <td>college</td>\n",
       "      <td>male</td>\n",
       "    </tr>\n",
       "  </tbody>\n",
       "</table>\n",
       "</div>"
      ],
      "text/plain": [
       "     Unnamed: 0  Unnamed: 0.1 loan_status  Principal  terms effective_date  \\\n",
       "341         394           394  COLLECTION        800     15      9/11/2016   \n",
       "342         395           395  COLLECTION       1000     30      9/11/2016   \n",
       "343         397           397  COLLECTION        800     15      9/12/2016   \n",
       "344         398           398  COLLECTION       1000     30      9/12/2016   \n",
       "345         399           399  COLLECTION       1000     30      9/12/2016   \n",
       "\n",
       "       due_date  age             education Gender  \n",
       "341   9/25/2016   32  High School or Below   male  \n",
       "342  10/10/2016   25  High School or Below   male  \n",
       "343   9/26/2016   39               college   male  \n",
       "344  11/10/2016   28               college   male  \n",
       "345  10/11/2016   26               college   male  "
      ]
     },
     "execution_count": 7,
     "metadata": {},
     "output_type": "execute_result"
    }
   ],
   "source": [
    "loan_train_df.tail(5)"
   ]
  },
  {
   "cell_type": "code",
   "execution_count": 8,
   "id": "a1c9a67e-810f-4cc0-a6b2-a01c760a66ba",
   "metadata": {},
   "outputs": [
    {
     "data": {
      "text/html": [
       "<div>\n",
       "<style scoped>\n",
       "    .dataframe tbody tr th:only-of-type {\n",
       "        vertical-align: middle;\n",
       "    }\n",
       "\n",
       "    .dataframe tbody tr th {\n",
       "        vertical-align: top;\n",
       "    }\n",
       "\n",
       "    .dataframe thead th {\n",
       "        text-align: right;\n",
       "    }\n",
       "</style>\n",
       "<table border=\"1\" class=\"dataframe\">\n",
       "  <thead>\n",
       "    <tr style=\"text-align: right;\">\n",
       "      <th></th>\n",
       "      <th>Unnamed: 0</th>\n",
       "      <th>Unnamed: 0.1</th>\n",
       "      <th>Principal</th>\n",
       "      <th>terms</th>\n",
       "      <th>age</th>\n",
       "    </tr>\n",
       "  </thead>\n",
       "  <tbody>\n",
       "    <tr>\n",
       "      <th>count</th>\n",
       "      <td>346.000000</td>\n",
       "      <td>346.000000</td>\n",
       "      <td>346.000000</td>\n",
       "      <td>346.000000</td>\n",
       "      <td>346.000000</td>\n",
       "    </tr>\n",
       "    <tr>\n",
       "      <th>mean</th>\n",
       "      <td>202.167630</td>\n",
       "      <td>202.167630</td>\n",
       "      <td>943.641618</td>\n",
       "      <td>22.653179</td>\n",
       "      <td>30.939306</td>\n",
       "    </tr>\n",
       "    <tr>\n",
       "      <th>std</th>\n",
       "      <td>115.459715</td>\n",
       "      <td>115.459715</td>\n",
       "      <td>109.425530</td>\n",
       "      <td>7.991006</td>\n",
       "      <td>6.039418</td>\n",
       "    </tr>\n",
       "    <tr>\n",
       "      <th>min</th>\n",
       "      <td>0.000000</td>\n",
       "      <td>0.000000</td>\n",
       "      <td>300.000000</td>\n",
       "      <td>7.000000</td>\n",
       "      <td>18.000000</td>\n",
       "    </tr>\n",
       "    <tr>\n",
       "      <th>25%</th>\n",
       "      <td>107.250000</td>\n",
       "      <td>107.250000</td>\n",
       "      <td>900.000000</td>\n",
       "      <td>15.000000</td>\n",
       "      <td>27.000000</td>\n",
       "    </tr>\n",
       "    <tr>\n",
       "      <th>50%</th>\n",
       "      <td>204.500000</td>\n",
       "      <td>204.500000</td>\n",
       "      <td>1000.000000</td>\n",
       "      <td>30.000000</td>\n",
       "      <td>30.000000</td>\n",
       "    </tr>\n",
       "    <tr>\n",
       "      <th>75%</th>\n",
       "      <td>298.750000</td>\n",
       "      <td>298.750000</td>\n",
       "      <td>1000.000000</td>\n",
       "      <td>30.000000</td>\n",
       "      <td>35.000000</td>\n",
       "    </tr>\n",
       "    <tr>\n",
       "      <th>max</th>\n",
       "      <td>399.000000</td>\n",
       "      <td>399.000000</td>\n",
       "      <td>1000.000000</td>\n",
       "      <td>30.000000</td>\n",
       "      <td>51.000000</td>\n",
       "    </tr>\n",
       "  </tbody>\n",
       "</table>\n",
       "</div>"
      ],
      "text/plain": [
       "       Unnamed: 0  Unnamed: 0.1    Principal       terms         age\n",
       "count  346.000000    346.000000   346.000000  346.000000  346.000000\n",
       "mean   202.167630    202.167630   943.641618   22.653179   30.939306\n",
       "std    115.459715    115.459715   109.425530    7.991006    6.039418\n",
       "min      0.000000      0.000000   300.000000    7.000000   18.000000\n",
       "25%    107.250000    107.250000   900.000000   15.000000   27.000000\n",
       "50%    204.500000    204.500000  1000.000000   30.000000   30.000000\n",
       "75%    298.750000    298.750000  1000.000000   30.000000   35.000000\n",
       "max    399.000000    399.000000  1000.000000   30.000000   51.000000"
      ]
     },
     "execution_count": 8,
     "metadata": {},
     "output_type": "execute_result"
    }
   ],
   "source": [
    "loan_train_df.describe()"
   ]
  },
  {
   "cell_type": "code",
   "execution_count": 9,
   "id": "2f750ade-bb2d-45ec-98b8-f4337626fde7",
   "metadata": {},
   "outputs": [
    {
     "data": {
      "text/plain": [
       "Unnamed: 0         int64\n",
       "Unnamed: 0.1       int64\n",
       "loan_status       object\n",
       "Principal          int64\n",
       "terms              int64\n",
       "effective_date    object\n",
       "due_date          object\n",
       "age                int64\n",
       "education         object\n",
       "Gender            object\n",
       "dtype: object"
      ]
     },
     "execution_count": 9,
     "metadata": {},
     "output_type": "execute_result"
    }
   ],
   "source": [
    "loan_train_df.dtypes"
   ]
  },
  {
   "cell_type": "markdown",
   "id": "79140a34-6455-4f47-99a5-abf422792ae6",
   "metadata": {},
   "source": [
    "Transform datetime columns and creating news features"
   ]
  },
  {
   "cell_type": "code",
   "execution_count": 10,
   "id": "4750fd7f-8100-4a61-a305-e98de0ff8c2a",
   "metadata": {},
   "outputs": [],
   "source": [
    "loan_train_df['effective_date'] = pd.to_datetime(loan_train_df['effective_date'])\n",
    "loan_train_df['due_date'] = pd.to_datetime(loan_train_df['due_date'])\n",
    "# creatting news features\n",
    "loan_train_df['diff_days'] = (loan_train_df['due_date']-loan_train_df['effective_date']).dt.days\n",
    "loan_train_df['day_of_pay'] = loan_train_df['effective_date'].dt.day\n",
    "loan_train_df['day_of_week_pay'] = loan_train_df['effective_date'].dt.dayofweek\n",
    "\n",
    "# applying the same to test df\n",
    "loan_test_df['effective_date'] = pd.to_datetime(loan_test_df['effective_date'])\n",
    "loan_test_df['due_date'] = pd.to_datetime(loan_test_df['due_date'])\n",
    "# creatting news features\n",
    "loan_test_df['diff_days'] = (loan_test_df['due_date']-loan_test_df['effective_date']).dt.days\n",
    "loan_test_df['day_of_pay'] = loan_test_df['effective_date'].dt.day\n",
    "loan_test_df['day_of_week_pay'] = loan_test_df['effective_date'].dt.dayofweek"
   ]
  },
  {
   "cell_type": "markdown",
   "id": "2546d0fa-f10b-48f6-8e67-85a3d55f8cb3",
   "metadata": {},
   "source": [
    "Dropping first and second columns because it looks index and have the same values"
   ]
  },
  {
   "cell_type": "code",
   "execution_count": 11,
   "id": "f55507a4-78f3-4c72-8927-8b3ce243c9a8",
   "metadata": {},
   "outputs": [
    {
     "data": {
      "text/plain": [
       "True"
      ]
     },
     "execution_count": 11,
     "metadata": {},
     "output_type": "execute_result"
    }
   ],
   "source": [
    "all(loan_train_df['Unnamed: 0'] == loan_train_df['Unnamed: 0.1'])"
   ]
  },
  {
   "cell_type": "code",
   "execution_count": 12,
   "id": "be63a541-7f15-4f01-b1bc-7d799b3ac173",
   "metadata": {},
   "outputs": [
    {
     "data": {
      "text/html": [
       "<div>\n",
       "<style scoped>\n",
       "    .dataframe tbody tr th:only-of-type {\n",
       "        vertical-align: middle;\n",
       "    }\n",
       "\n",
       "    .dataframe tbody tr th {\n",
       "        vertical-align: top;\n",
       "    }\n",
       "\n",
       "    .dataframe thead th {\n",
       "        text-align: right;\n",
       "    }\n",
       "</style>\n",
       "<table border=\"1\" class=\"dataframe\">\n",
       "  <thead>\n",
       "    <tr style=\"text-align: right;\">\n",
       "      <th></th>\n",
       "      <th>loan_status</th>\n",
       "      <th>Principal</th>\n",
       "      <th>terms</th>\n",
       "      <th>effective_date</th>\n",
       "      <th>due_date</th>\n",
       "      <th>age</th>\n",
       "      <th>education</th>\n",
       "      <th>Gender</th>\n",
       "      <th>diff_days</th>\n",
       "      <th>day_of_pay</th>\n",
       "      <th>day_of_week_pay</th>\n",
       "    </tr>\n",
       "  </thead>\n",
       "  <tbody>\n",
       "    <tr>\n",
       "      <th>0</th>\n",
       "      <td>PAIDOFF</td>\n",
       "      <td>1000</td>\n",
       "      <td>30</td>\n",
       "      <td>2016-09-08</td>\n",
       "      <td>2016-10-07</td>\n",
       "      <td>45</td>\n",
       "      <td>High School or Below</td>\n",
       "      <td>male</td>\n",
       "      <td>29</td>\n",
       "      <td>8</td>\n",
       "      <td>3</td>\n",
       "    </tr>\n",
       "    <tr>\n",
       "      <th>1</th>\n",
       "      <td>PAIDOFF</td>\n",
       "      <td>1000</td>\n",
       "      <td>30</td>\n",
       "      <td>2016-09-08</td>\n",
       "      <td>2016-10-07</td>\n",
       "      <td>33</td>\n",
       "      <td>Bechalor</td>\n",
       "      <td>female</td>\n",
       "      <td>29</td>\n",
       "      <td>8</td>\n",
       "      <td>3</td>\n",
       "    </tr>\n",
       "    <tr>\n",
       "      <th>2</th>\n",
       "      <td>PAIDOFF</td>\n",
       "      <td>1000</td>\n",
       "      <td>15</td>\n",
       "      <td>2016-09-08</td>\n",
       "      <td>2016-09-22</td>\n",
       "      <td>27</td>\n",
       "      <td>college</td>\n",
       "      <td>male</td>\n",
       "      <td>14</td>\n",
       "      <td>8</td>\n",
       "      <td>3</td>\n",
       "    </tr>\n",
       "    <tr>\n",
       "      <th>3</th>\n",
       "      <td>PAIDOFF</td>\n",
       "      <td>1000</td>\n",
       "      <td>30</td>\n",
       "      <td>2016-09-09</td>\n",
       "      <td>2016-10-08</td>\n",
       "      <td>28</td>\n",
       "      <td>college</td>\n",
       "      <td>female</td>\n",
       "      <td>29</td>\n",
       "      <td>9</td>\n",
       "      <td>4</td>\n",
       "    </tr>\n",
       "    <tr>\n",
       "      <th>4</th>\n",
       "      <td>PAIDOFF</td>\n",
       "      <td>1000</td>\n",
       "      <td>30</td>\n",
       "      <td>2016-09-09</td>\n",
       "      <td>2016-10-08</td>\n",
       "      <td>29</td>\n",
       "      <td>college</td>\n",
       "      <td>male</td>\n",
       "      <td>29</td>\n",
       "      <td>9</td>\n",
       "      <td>4</td>\n",
       "    </tr>\n",
       "  </tbody>\n",
       "</table>\n",
       "</div>"
      ],
      "text/plain": [
       "  loan_status  Principal  terms effective_date   due_date  age  \\\n",
       "0     PAIDOFF       1000     30     2016-09-08 2016-10-07   45   \n",
       "1     PAIDOFF       1000     30     2016-09-08 2016-10-07   33   \n",
       "2     PAIDOFF       1000     15     2016-09-08 2016-09-22   27   \n",
       "3     PAIDOFF       1000     30     2016-09-09 2016-10-08   28   \n",
       "4     PAIDOFF       1000     30     2016-09-09 2016-10-08   29   \n",
       "\n",
       "              education  Gender  diff_days  day_of_pay  day_of_week_pay  \n",
       "0  High School or Below    male         29           8                3  \n",
       "1              Bechalor  female         29           8                3  \n",
       "2               college    male         14           8                3  \n",
       "3               college  female         29           9                4  \n",
       "4               college    male         29           9                4  "
      ]
     },
     "execution_count": 12,
     "metadata": {},
     "output_type": "execute_result"
    }
   ],
   "source": [
    "loan_train_df = loan_train_df.drop(['Unnamed: 0', 'Unnamed: 0.1'], axis=1)\n",
    "loan_test_df = loan_test_df.drop(['Unnamed: 0', 'Unnamed: 0.1'], axis=1)\n",
    "loan_train_df.head(5)"
   ]
  },
  {
   "cell_type": "markdown",
   "id": "d4c0f046-0b90-4b3a-95be-ed56e5d942ca",
   "metadata": {},
   "source": [
    "Getting the main columns and get their values for train and test"
   ]
  },
  {
   "cell_type": "code",
   "execution_count": 13,
   "id": "f6456275-6ba2-4ef3-a51c-1bff625ac37f",
   "metadata": {},
   "outputs": [
    {
     "data": {
      "text/plain": [
       "array([[1000, 30, 45, 'High School or Below', 'male', 29, 29, 8, 3],\n",
       "       [1000, 30, 33, 'Bechalor', 'female', 29, 29, 8, 3],\n",
       "       [1000, 15, 27, 'college', 'male', 14, 14, 8, 3],\n",
       "       [1000, 30, 28, 'college', 'female', 29, 29, 9, 4],\n",
       "       [1000, 30, 29, 'college', 'male', 29, 29, 9, 4]], dtype=object)"
      ]
     },
     "execution_count": 13,
     "metadata": {},
     "output_type": "execute_result"
    }
   ],
   "source": [
    "columns_x = ['Principal', 'terms', 'age', 'education', 'Gender', 'diff_days', 'diff_days', 'day_of_pay', 'day_of_week_pay']\n",
    "X_train = loan_train_df[columns_x] .values  #.astype(float)\n",
    "# test\n",
    "X_test = loan_test_df[columns_x] .values  #.astype(float)\n",
    "# showing the train\n",
    "X_train[0:5]"
   ]
  },
  {
   "cell_type": "code",
   "execution_count": 14,
   "id": "1e348af0-e189-4af0-980f-64d5598329f9",
   "metadata": {},
   "outputs": [
    {
     "data": {
      "text/plain": [
       "array(['PAIDOFF', 'PAIDOFF', 'PAIDOFF', 'PAIDOFF', 'PAIDOFF'],\n",
       "      dtype=object)"
      ]
     },
     "execution_count": 14,
     "metadata": {},
     "output_type": "execute_result"
    }
   ],
   "source": [
    "y_train = loan_train_df['loan_status'].values\n",
    "y_test = loan_test_df['loan_status'].values\n",
    "# Printing y_train\n",
    "y_train[0:5]"
   ]
  },
  {
   "cell_type": "markdown",
   "id": "c1d60336-faac-4fc0-a698-33873899fcf9",
   "metadata": {},
   "source": [
    "Encoding some variables as gender, education, "
   ]
  },
  {
   "cell_type": "code",
   "execution_count": 15,
   "id": "66d9f31b-a8ab-4578-9415-5c4b79907f34",
   "metadata": {},
   "outputs": [],
   "source": [
    "le_gender = preprocessing.LabelEncoder()\n",
    "le_gender.fit(loan_train_df.Gender.unique().tolist())\n",
    "idx = columns_x.index('Gender')\n",
    "X_train[:,idx] = le_gender.transform(X_train[:,idx])\n",
    "X_test[:,idx] = le_gender.transform(X_test[:,idx]) \n",
    "\n",
    "\n",
    "le_edu = preprocessing.LabelEncoder()\n",
    "le_edu.fit(loan_train_df.education.unique())\n",
    "idx = columns_x.index('education')\n",
    "X_train[:,idx] = le_edu.transform(X_train[:,idx])\n",
    "X_test[:,idx] = le_edu.transform(X_test[:,idx])\n",
    "del idx\n",
    "\n",
    "le_status = preprocessing.LabelEncoder()\n",
    "le_status.fit(loan_train_df.loan_status.unique())\n",
    "y_train = le_status.transform(y_train)\n",
    "y_test = le_status.transform(y_test)"
   ]
  },
  {
   "cell_type": "code",
   "execution_count": 16,
   "id": "ae7d9cf7-8f79-452d-b444-1336d8e9e871",
   "metadata": {},
   "outputs": [
    {
     "data": {
      "text/plain": [
       "array([[1000, 30, 45, 1, 1, 29, 29, 8, 3],\n",
       "       [1000, 30, 33, 0, 0, 29, 29, 8, 3],\n",
       "       [1000, 15, 27, 3, 1, 14, 14, 8, 3],\n",
       "       [1000, 30, 28, 3, 0, 29, 29, 9, 4],\n",
       "       [1000, 30, 29, 3, 1, 29, 29, 9, 4]], dtype=object)"
      ]
     },
     "execution_count": 16,
     "metadata": {},
     "output_type": "execute_result"
    }
   ],
   "source": [
    "X_train[0:5]"
   ]
  },
  {
   "cell_type": "code",
   "execution_count": 17,
   "id": "a7050132-8536-4bfb-b7fd-55e2644e085c",
   "metadata": {},
   "outputs": [
    {
     "data": {
      "image/png": "[encoded data removed]",
      "text/plain": [
       "<Figure size 432x288 with 1 Axes>"
      ]
     },
     "metadata": {
      "needs_background": "light"
     },
     "output_type": "display_data"
    }
   ],
   "source": [
    "loan_train_df['loan_status'].value_counts().plot(kind='bar')\n",
    "plt.grid()"
   ]
  },
  {
   "cell_type": "code",
   "execution_count": 18,
   "id": "814006a7-78de-4d4a-a85c-998cd89e4380",
   "metadata": {},
   "outputs": [
    {
     "data": {
      "text/plain": [
       "array([[ 0.51578458,  0.92071769,  2.33152555, -0.64691859,  0.42056004,\n",
       "         0.53257725,  0.53257725, -3.01861447, -0.26122054],\n",
       "       [ 0.51578458,  0.92071769,  0.34170148, -1.5212695 , -2.37778177,\n",
       "         0.53257725,  0.53257725, -3.01861447, -0.26122054],\n",
       "       [ 0.51578458, -0.95911111, -0.65321055,  1.10178323,  0.42056004,\n",
       "        -0.88417105, -0.88417105, -3.01861447, -0.26122054],\n",
       "       [ 0.51578458,  0.92071769, -0.48739188,  1.10178323, -2.37778177,\n",
       "         0.53257725,  0.53257725, -2.14969549,  0.12175534],\n",
       "       [ 0.51578458,  0.92071769, -0.3215732 ,  1.10178323,  0.42056004,\n",
       "         0.53257725,  0.53257725, -2.14969549,  0.12175534]])"
      ]
     },
     "execution_count": 18,
     "metadata": {},
     "output_type": "execute_result"
    }
   ],
   "source": [
    "#Normalize the data\n",
    "X_train = preprocessing.StandardScaler().fit(X_train).transform(X_train.astype(float))\n",
    "X_test = preprocessing.StandardScaler().fit(X_test).transform(X_test.astype(float))\n",
    "X_train[0:5]"
   ]
  },
  {
   "cell_type": "markdown",
   "id": "0c14643c-78b9-4fc6-ab00-53bb2dcc9da4",
   "metadata": {},
   "source": [
    "# Trainning  a KNN  model\n",
    "\n",
    "Finding the best K"
   ]
  },
  {
   "cell_type": "code",
   "execution_count": 19,
   "id": "0ae6f721-0cdf-41a6-a28a-605c8d9e0588",
   "metadata": {},
   "outputs": [
    {
     "data": {
      "image/png": "[encoded data removed]",
      "text/plain": [
       "<Figure size 432x288 with 1 Axes>"
      ]
     },
     "metadata": {
      "needs_background": "light"
     },
     "output_type": "display_data"
    }
   ],
   "source": [
    "Ks = 15\n",
    "mean_acc = np.zeros((Ks-1))\n",
    "std_acc = np.zeros((Ks-1))\n",
    "\n",
    "for n in range(1, Ks):\n",
    "    # Train Model and Predict\n",
    "    neigh = KNeighborsClassifier(n_neighbors=n).fit(X_train, y_train)\n",
    "    yhat = neigh.predict(X_test)\n",
    "    mean_acc[n-1] = metrics.accuracy_score(y_test, yhat)\n",
    "    std_acc[n-1] = np.std(yhat == y_test) / np.sqrt(yhat.shape[0])\n",
    "\n",
    "plt.plot(range(1, Ks), mean_acc, 'g')\n",
    "plt.fill_between(\n",
    "    range(1, Ks),\n",
    "    mean_acc - 1 * std_acc,\n",
    "    mean_acc + 1 * std_acc,\n",
    "    alpha=0.10)\n",
    "plt.fill_between(\n",
    "    range(1, Ks),\n",
    "    mean_acc - 3 * std_acc,\n",
    "    mean_acc + 3 * std_acc,\n",
    "    alpha=0.10,\n",
    "    color=\"green\")\n",
    "plt.legend(('Accuracy ', '+/- 1xstd', '+/- 3xstd'))\n",
    "plt.ylabel('Accuracy ')\n",
    "plt.xlabel('Number of Neighbors (K)')\n",
    "plt.tight_layout()\n",
    "plt.title('Comparision among differents k')\n",
    "plt.show()"
   ]
  },
  {
   "cell_type": "markdown",
   "id": "1d281249-2aac-471b-b832-d74a0a1d764b",
   "metadata": {},
   "source": [
    "The best k neighbors is 5"
   ]
  },
  {
   "cell_type": "code",
   "execution_count": 20,
   "id": "47a99219-43c6-437a-b6b4-3826f225077b",
   "metadata": {},
   "outputs": [
    {
     "data": {
      "text/plain": [
       "KNeighborsClassifier()"
      ]
     },
     "execution_count": 20,
     "metadata": {},
     "output_type": "execute_result"
    }
   ],
   "source": [
    "k = 5\n",
    "# Train Model and Predict\n",
    "neigh = KNeighborsClassifier(n_neighbors=k).fit(X_train, y_train)\n",
    "neigh"
   ]
  },
  {
   "cell_type": "code",
   "execution_count": 21,
   "id": "208569d9-a909-4ed4-8918-3ad203c22593",
   "metadata": {},
   "outputs": [
    {
     "data": {
      "text/plain": [
       "array([1, 1, 1, 0, 0])"
      ]
     },
     "execution_count": 21,
     "metadata": {},
     "output_type": "execute_result"
    }
   ],
   "source": [
    "yhat = neigh.predict(X_test)\n",
    "yhat[0:5]"
   ]
  },
  {
   "cell_type": "code",
   "execution_count": 22,
   "id": "f3baff8d-1d5b-4e06-81c2-f14f1c2c0099",
   "metadata": {},
   "outputs": [
    {
     "name": "stdout",
     "output_type": "stream",
     "text": [
      "Train set Accuracy accuracy score:  0.8323699421965318\n",
      "Test set Accuracy accuracy score:  0.7592592592592593\n",
      "Train set Accuracy jaccard:  0.8073089700996677\n",
      "Test set Accuracy jaccard:  0.7291666666666666\n",
      "Train set Accuracy f1 score:  0.8224760377514544\n",
      "Test set Accuracy f1 score:  0.7491655510932619\n",
      "Train set Accuracy log loss:  5.7898318335244445\n",
      "Test set Accuracy log loss:  8.315009072468156\n"
     ]
    }
   ],
   "source": [
    "print(\"Train set Accuracy accuracy score: \",\n",
    "      metrics.accuracy_score(y_train, neigh.predict(X_train)))\n",
    "print(\"Test set Accuracy accuracy score: \",\n",
    "      metrics.accuracy_score(y_test, yhat))\n",
    "print(\"Train set Accuracy jaccard: \",\n",
    "      jaccard_score(y_train, neigh.predict(X_train), average='binary'))\n",
    "print(\"Test set Accuracy jaccard: \",\n",
    "      jaccard_score(y_test, yhat, average='binary'))\n",
    "print(\"Train set Accuracy f1 score: \",\n",
    "      f1_score(y_train, neigh.predict(X_train), average='weighted'))\n",
    "print(\"Test set Accuracy f1 score: \",\n",
    "      f1_score(y_test, yhat, average='weighted'))\n",
    "print(\"Train set Accuracy log loss: \",\n",
    "      log_loss(y_train, neigh.predict(X_train)))\n",
    "print(\"Test set Accuracy log loss: \",\n",
    "      log_loss(y_test, yhat))"
   ]
  },
  {
   "cell_type": "markdown",
   "id": "2454971d-1785-41af-8b56-bf8de2d0b394",
   "metadata": {},
   "source": [
    "# Trainning  a Decision Tree model"
   ]
  },
  {
   "cell_type": "code",
   "execution_count": 23,
   "id": "bfc5f51f-e183-443f-9c2d-da7c8a445a66",
   "metadata": {},
   "outputs": [
    {
     "data": {
      "text/plain": [
       "DecisionTreeClassifier(criterion='entropy', max_depth=4)"
      ]
     },
     "execution_count": 23,
     "metadata": {},
     "output_type": "execute_result"
    }
   ],
   "source": [
    "deTree = DecisionTreeClassifier(criterion=\"entropy\", max_depth=4)\n",
    "deTree.fit(X_train, y_train)"
   ]
  },
  {
   "cell_type": "code",
   "execution_count": 24,
   "id": "94662b0b-913d-47de-9241-d0bd3899f234",
   "metadata": {},
   "outputs": [
    {
     "data": {
      "text/plain": [
       "array([1, 1, 1, 1, 1])"
      ]
     },
     "execution_count": 24,
     "metadata": {},
     "output_type": "execute_result"
    }
   ],
   "source": [
    "yhat = deTree.predict(X_test)\n",
    "yhat[0:5]"
   ]
  },
  {
   "cell_type": "code",
   "execution_count": 25,
   "id": "37ddc5d8-5216-458b-8fb9-a66d9bc1a5c9",
   "metadata": {},
   "outputs": [
    {
     "name": "stdout",
     "output_type": "stream",
     "text": [
      "Train set Accuracy accuracy score:  0.7630057803468208\n",
      "Test set Accuracy accuracy score:  0.7592592592592593\n",
      "Train set Accuracy jaccard:  0.7559523809523809\n",
      "Test set Accuracy jaccard:  0.7450980392156863\n",
      "Train set Accuracy f1 score:  0.6957432135193649\n",
      "Test set Accuracy f1 score:  0.7144140000438048\n",
      "Train set Accuracy log loss:  8.185665993605118\n",
      "Test set Accuracy log loss:  8.31505349454761\n"
     ]
    }
   ],
   "source": [
    "print(\"Train set Accuracy accuracy score: \",\n",
    "      metrics.accuracy_score(y_train, deTree.predict(X_train)))\n",
    "print(\"Test set Accuracy accuracy score: \",\n",
    "      metrics.accuracy_score(y_test, yhat))\n",
    "print(\"Train set Accuracy jaccard: \",\n",
    "      jaccard_score(y_train, deTree.predict(X_train), average='binary'))\n",
    "print(\"Test set Accuracy jaccard: \",\n",
    "      jaccard_score(y_test, yhat, average='binary'))\n",
    "print(\"Train set Accuracy f1 score: \",\n",
    "      f1_score(y_train, deTree.predict(X_train), average='weighted'))\n",
    "print(\"Test set Accuracy f1 score: \",\n",
    "      f1_score(y_test, yhat, average='weighted'))\n",
    "print(\"Train set Accuracy log loss: \",\n",
    "      log_loss(y_train, deTree.predict(X_train)))\n",
    "print(\"Test set Accuracy log loss: \",\n",
    "      log_loss(y_test, yhat))"
   ]
  },
  {
   "cell_type": "markdown",
   "id": "a56c7bab-9e91-4c24-812b-894fd5721a04",
   "metadata": {},
   "source": [
    "# Trainning  a SVM model"
   ]
  },
  {
   "cell_type": "code",
   "execution_count": 26,
   "id": "d5301f28-7e44-4986-b1e6-8061ed377898",
   "metadata": {},
   "outputs": [
    {
     "data": {
      "text/plain": [
       "SVC()"
      ]
     },
     "execution_count": 26,
     "metadata": {},
     "output_type": "execute_result"
    }
   ],
   "source": [
    "clf = svm.SVC(kernel='rbf')\n",
    "clf.fit(X_train, y_train)"
   ]
  },
  {
   "cell_type": "code",
   "execution_count": 27,
   "id": "730eee2c-eb3c-4938-a291-b6070e1fca27",
   "metadata": {},
   "outputs": [
    {
     "data": {
      "text/plain": [
       "array([1, 1, 1, 1, 1])"
      ]
     },
     "execution_count": 27,
     "metadata": {},
     "output_type": "execute_result"
    }
   ],
   "source": [
    "yhat = deTree.predict(X_test)\n",
    "yhat[0:5]"
   ]
  },
  {
   "cell_type": "code",
   "execution_count": 28,
   "id": "7396c81b-00c0-4430-88f0-c6abf9b96d0b",
   "metadata": {},
   "outputs": [
    {
     "name": "stdout",
     "output_type": "stream",
     "text": [
      "Train set Accuracy accuracy score:  0.7745664739884393\n",
      "Test set Accuracy accuracy score:  0.7592592592592593\n",
      "Train set Accuracy jaccard:  0.7692307692307693\n",
      "Test set Accuracy jaccard:  0.7450980392156863\n",
      "Train set Accuracy f1 score:  0.6957377294626578\n",
      "Test set Accuracy f1 score:  0.7144140000438048\n",
      "Train set Accuracy log loss:  7.786378402897654\n",
      "Test set Accuracy log loss:  8.31505349454761\n"
     ]
    }
   ],
   "source": [
    "print(\"Train set Accuracy accuracy score: \",\n",
    "      metrics.accuracy_score(y_train, clf.predict(X_train)))\n",
    "print(\"Test set Accuracy accuracy score: \",\n",
    "      metrics.accuracy_score(y_test, yhat))\n",
    "print(\"Train set Accuracy jaccard: \",\n",
    "      jaccard_score(y_train, clf.predict(X_train), average='binary'))\n",
    "print(\"Test set Accuracy jaccard: \",\n",
    "      jaccard_score(y_test, yhat, average='binary'))\n",
    "print(\"Train set Accuracy f1 score: \",\n",
    "      f1_score(y_train, clf.predict(X_train), average='weighted'))\n",
    "print(\"Test set Accuracy f1 score: \",\n",
    "      f1_score(y_test, yhat, average='weighted'))\n",
    "print(\"Train set Accuracy log loss: \",\n",
    "      log_loss(y_train, clf.predict(X_train)))\n",
    "print(\"Test set Accuracy log loss: \",\n",
    "      log_loss(y_test, yhat))"
   ]
  },
  {
   "cell_type": "markdown",
   "id": "a5ac87e4-d45f-488c-86c3-4cc944da87d5",
   "metadata": {},
   "source": [
    "# Trainning  a Logistic Regression model"
   ]
  },
  {
   "cell_type": "code",
   "execution_count": 29,
   "id": "fa01b9bf-6f54-4be2-a8e6-5b73c8878eaf",
   "metadata": {},
   "outputs": [
    {
     "data": {
      "text/plain": [
       "LogisticRegression(C=0.01, solver='liblinear')"
      ]
     },
     "execution_count": 29,
     "metadata": {},
     "output_type": "execute_result"
    }
   ],
   "source": [
    "logReg = LogisticRegression(C=0.01, solver='liblinear')\n",
    "logReg.fit(X_train, y_train)"
   ]
  },
  {
   "cell_type": "code",
   "execution_count": 30,
   "id": "02df6a40-9775-4166-8b9c-ab18b5ed5b78",
   "metadata": {},
   "outputs": [
    {
     "name": "stdout",
     "output_type": "stream",
     "text": [
      "Train set Accuracy accuracy score:  0.7283236994219653\n",
      "Test set Accuracy accuracy score:  0.7592592592592593\n",
      "Train set Accuracy jaccard:  0.7034700315457413\n",
      "Test set Accuracy jaccard:  0.7450980392156863\n",
      "Train set Accuracy f1 score:  0.7154813011977599\n",
      "Test set Accuracy f1 score:  0.7144140000438048\n",
      "Train set Accuracy log loss:  9.383498723049495\n",
      "Test set Accuracy log loss:  8.31505349454761\n"
     ]
    }
   ],
   "source": [
    "print(\"Train set Accuracy accuracy score: \",\n",
    "      metrics.accuracy_score(y_train, logReg.predict(X_train)))\n",
    "print(\"Test set Accuracy accuracy score: \",\n",
    "      metrics.accuracy_score(y_test, yhat))\n",
    "print(\"Train set Accuracy jaccard: \",\n",
    "      jaccard_score(y_train, logReg.predict(X_train), average='binary'))\n",
    "print(\"Test set Accuracy jaccard: \",\n",
    "      jaccard_score(y_test, yhat, average='binary'))\n",
    "print(\"Train set Accuracy f1 score: \",\n",
    "      f1_score(y_train, logReg.predict(X_train), average='weighted'))\n",
    "print(\"Test set Accuracy f1 score: \",\n",
    "      f1_score(y_test, yhat, average='weighted'))\n",
    "print(\"Train set Accuracy log loss: \",\n",
    "      log_loss(y_train, logReg.predict(X_train)))\n",
    "print(\"Test set Accuracy log loss: \",\n",
    "      log_loss(y_test, yhat))"
   ]
  },
  {
   "cell_type": "code",
   "execution_count": null,
   "id": "aaba6570-d535-46b1-aedd-1336d1cd467b",
   "metadata": {},
   "outputs": [],
   "source": []
  }
 ],
 "metadata": {
  "kernelspec": {
   "display_name": "Python",
   "language": "python",
   "name": "conda-env-python-py"
  },
  "language_info": {
   "codemirror_mode": {
    "name": "ipython",
    "version": 3
   },
   "file_extension": ".py",
   "mimetype": "text/x-python",
   "name": "python",
   "nbconvert_exporter": "python",
   "pygments_lexer": "ipython3",
   "version": "3.6.13"
  }
 },
 "nbformat": 4,
 "nbformat_minor": 5
}
