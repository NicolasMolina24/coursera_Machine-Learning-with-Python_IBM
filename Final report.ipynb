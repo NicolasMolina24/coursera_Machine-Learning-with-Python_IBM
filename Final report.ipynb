{
 "cells": [
  {
   "cell_type": "markdown",
   "id": "257bc599-115f-495d-bb14-5a0a3a4b9011",
   "metadata": {},
   "source": [
    "Descargando los datos de prueba y test"
   ]
  },
  {
   "cell_type": "markdown",
   "id": "00ddea94-bf14-4e25-b330-fd8f632b94ec",
   "metadata": {},
   "source": [
    "<a href=\"https://www.bigdatauniversity.com\"><img src = \"https://ibm.box.com/shared/static/cw2c7r3o20w9zn8gkecaeyjhgw3xdgbj.png\" width = 400, align = \"center\"></a>\n",
    "\n",
    "<h1 align=center><font size = 5> Classification with Python</font></h1>"
   ]
  },
  {
   "cell_type": "markdown",
   "id": "1a9261c8-f02c-441d-80e6-4d0a6a908476",
   "metadata": {},
   "source": [
    "In this notebook we try to practice all the classification algorithms that we learned in this course.\n",
    "\n",
    "We load a dataset using Pandas library, and apply the following algorithms, and find the best one for this specific dataset by accuracy evaluation methods.\n",
    "\n",
    "Lets first download the files:\n",
    "\n",
    "This dataset is about past loans. The Loan_train.csv data set includes details of 346 customers whose loan are already paid off or defaulted. It includes following fields:\n",
    "\n",
    "| Field          | Description                                                                           |\n",
    "|----------------|---------------------------------------------------------------------------------------|\n",
    "| Loan_status    | Whether a loan is paid off on in collection                                           |\n",
    "| Principal      | Basic principal loan amount at the                                                    |\n",
    "| Terms          | Origination terms which can be weekly (7 days), biweekly, and monthly payoff schedule |\n",
    "| Effective_date | When the loan got originated and took effects                                         |\n",
    "| Due_date       | Since it’s one-time payoff schedule, each loan has one single due date                |\n",
    "| Age            | Age of applicant                                                                      |\n",
    "| Education      | Education of applicant                                                                |\n",
    "| Gender         | The gender of applicant                                                               |\n",
    "\n",
    "And after importing the required libraries"
   ]
  },
  {
   "cell_type": "code",
   "execution_count": 1,
   "id": "a78f003b-2fee-485f-beda-d38def88af3e",
   "metadata": {},
   "outputs": [
    {
     "name": "stdout",
     "output_type": "stream",
     "text": [
      "--2021-06-08 22:41:38--  https://s3-api.us-geo.objectstorage.softlayer.net/cf-courses-data/CognitiveClass/ML0101ENv3/labs/loan_train.csv\n",
      "Resolving s3-api.us-geo.objectstorage.softlayer.net (s3-api.us-geo.objectstorage.softlayer.net)... 67.228.254.196\n",
      "Connecting to s3-api.us-geo.objectstorage.softlayer.net (s3-api.us-geo.objectstorage.softlayer.net)|67.228.254.196|:443... connected.\n",
      "HTTP request sent, awaiting response... 200 OK\n",
      "Length: 23101 (23K) [text/csv]\n",
      "Saving to: ‘loan_train.csv’\n",
      "\n",
      "loan_train.csv      100%[===================>]  22.56K  --.-KB/s    in 0.06s   \n",
      "\n",
      "2021-06-08 22:41:39 (363 KB/s) - ‘loan_train.csv’ saved [23101/23101]\n",
      "\n"
     ]
    }
   ],
   "source": [
    "!wget -O loan_train.csv https://s3-api.us-geo.objectstorage.softlayer.net/cf-courses-data/CognitiveClass/ML0101ENv3/labs/loan_train.csv"
   ]
  },
  {
   "cell_type": "code",
   "execution_count": 2,
   "id": "f623f2cf-62cb-4361-9af5-b9a6ccf98f87",
   "metadata": {},
   "outputs": [
    {
     "name": "stdout",
     "output_type": "stream",
     "text": [
      "--2021-06-08 22:41:39--  https://s3-api.us-geo.objectstorage.softlayer.net/cf-courses-data/CognitiveClass/ML0101ENv3/labs/loan_test.csv\n",
      "Resolving s3-api.us-geo.objectstorage.softlayer.net (s3-api.us-geo.objectstorage.softlayer.net)... 67.228.254.196\n",
      "Connecting to s3-api.us-geo.objectstorage.softlayer.net (s3-api.us-geo.objectstorage.softlayer.net)|67.228.254.196|:443... connected.\n",
      "HTTP request sent, awaiting response... 200 OK\n",
      "Length: 3642 (3.6K) [text/csv]\n",
      "Saving to: ‘loan_test.csv’\n",
      "\n",
      "loan_test.csv       100%[===================>]   3.56K  --.-KB/s    in 0.03s   \n",
      "\n",
      "2021-06-08 22:41:39 (105 KB/s) - ‘loan_test.csv’ saved [3642/3642]\n",
      "\n"
     ]
    }
   ],
   "source": [
    "!wget -O loan_test.csv https://s3-api.us-geo.objectstorage.softlayer.net/cf-courses-data/CognitiveClass/ML0101ENv3/labs/loan_test.csv"
   ]
  },
  {
   "cell_type": "code",
   "execution_count": 3,
   "id": "1f9267e9-1a01-4598-a923-2de312b1fddf",
   "metadata": {},
   "outputs": [],
   "source": [
    "from sklearn.metrics import accuracy_score, jaccard_score, log_loss, f1_score\n",
    "from sklearn.metrics import classification_report, confusion_matrix\n",
    "from sklearn.model_selection import train_test_split\n",
    "from sklearn.linear_model import LogisticRegression\n",
    "from sklearn.neighbors import KNeighborsClassifier\n",
    "from sklearn.tree import DecisionTreeClassifier\n",
    "from sklearn import preprocessing\n",
    "import matplotlib.pyplot as plt\n",
    "import scipy.optimize as opt\n",
    "from sklearn import svm\n",
    "from math import sqrt\n",
    "import pandas as pd\n",
    "import numpy as np\n",
    "import pylab as pl\n",
    "import itertools\n",
    "%matplotlib inline "
   ]
  },
  {
   "cell_type": "code",
   "execution_count": 4,
   "id": "824cd12b-c4ba-4a68-9468-757756779cce",
   "metadata": {},
   "outputs": [],
   "source": [
    "#Storing the movie information into a pandas dataframe\n",
    "loan_train_df = pd.read_csv('loan_train.csv')\n",
    "#Storing the user information into a pandas dataframe\n",
    "final_validation_df = pd.read_csv('loan_test.csv')"
   ]
  },
  {
   "cell_type": "code",
   "execution_count": 5,
   "id": "f108210a-4b56-44e7-a15d-4de159ef2f0e",
   "metadata": {},
   "outputs": [
    {
     "data": {
      "text/plain": [
       "346"
      ]
     },
     "execution_count": 5,
     "metadata": {},
     "output_type": "execute_result"
    }
   ],
   "source": [
    "len(loan_train_df)"
   ]
  },
  {
   "cell_type": "markdown",
   "id": "f09c87ac-4812-4d07-9f86-bba9829f5a2e",
   "metadata": {},
   "source": [
    "### Exploring the dataset"
   ]
  },
  {
   "cell_type": "code",
   "execution_count": 6,
   "id": "dfbc579d-2177-4a12-a03b-50bafbd7885f",
   "metadata": {},
   "outputs": [
    {
     "data": {
      "text/html": [
       "<div>\n",
       "<style scoped>\n",
       "    .dataframe tbody tr th:only-of-type {\n",
       "        vertical-align: middle;\n",
       "    }\n",
       "\n",
       "    .dataframe tbody tr th {\n",
       "        vertical-align: top;\n",
       "    }\n",
       "\n",
       "    .dataframe thead th {\n",
       "        text-align: right;\n",
       "    }\n",
       "</style>\n",
       "<table border=\"1\" class=\"dataframe\">\n",
       "  <thead>\n",
       "    <tr style=\"text-align: right;\">\n",
       "      <th></th>\n",
       "      <th>Unnamed: 0</th>\n",
       "      <th>Unnamed: 0.1</th>\n",
       "      <th>loan_status</th>\n",
       "      <th>Principal</th>\n",
       "      <th>terms</th>\n",
       "      <th>effective_date</th>\n",
       "      <th>due_date</th>\n",
       "      <th>age</th>\n",
       "      <th>education</th>\n",
       "      <th>Gender</th>\n",
       "    </tr>\n",
       "  </thead>\n",
       "  <tbody>\n",
       "    <tr>\n",
       "      <th>341</th>\n",
       "      <td>394</td>\n",
       "      <td>394</td>\n",
       "      <td>COLLECTION</td>\n",
       "      <td>800</td>\n",
       "      <td>15</td>\n",
       "      <td>9/11/2016</td>\n",
       "      <td>9/25/2016</td>\n",
       "      <td>32</td>\n",
       "      <td>High School or Below</td>\n",
       "      <td>male</td>\n",
       "    </tr>\n",
       "    <tr>\n",
       "      <th>342</th>\n",
       "      <td>395</td>\n",
       "      <td>395</td>\n",
       "      <td>COLLECTION</td>\n",
       "      <td>1000</td>\n",
       "      <td>30</td>\n",
       "      <td>9/11/2016</td>\n",
       "      <td>10/10/2016</td>\n",
       "      <td>25</td>\n",
       "      <td>High School or Below</td>\n",
       "      <td>male</td>\n",
       "    </tr>\n",
       "    <tr>\n",
       "      <th>343</th>\n",
       "      <td>397</td>\n",
       "      <td>397</td>\n",
       "      <td>COLLECTION</td>\n",
       "      <td>800</td>\n",
       "      <td>15</td>\n",
       "      <td>9/12/2016</td>\n",
       "      <td>9/26/2016</td>\n",
       "      <td>39</td>\n",
       "      <td>college</td>\n",
       "      <td>male</td>\n",
       "    </tr>\n",
       "    <tr>\n",
       "      <th>344</th>\n",
       "      <td>398</td>\n",
       "      <td>398</td>\n",
       "      <td>COLLECTION</td>\n",
       "      <td>1000</td>\n",
       "      <td>30</td>\n",
       "      <td>9/12/2016</td>\n",
       "      <td>11/10/2016</td>\n",
       "      <td>28</td>\n",
       "      <td>college</td>\n",
       "      <td>male</td>\n",
       "    </tr>\n",
       "    <tr>\n",
       "      <th>345</th>\n",
       "      <td>399</td>\n",
       "      <td>399</td>\n",
       "      <td>COLLECTION</td>\n",
       "      <td>1000</td>\n",
       "      <td>30</td>\n",
       "      <td>9/12/2016</td>\n",
       "      <td>10/11/2016</td>\n",
       "      <td>26</td>\n",
       "      <td>college</td>\n",
       "      <td>male</td>\n",
       "    </tr>\n",
       "  </tbody>\n",
       "</table>\n",
       "</div>"
      ],
      "text/plain": [
       "     Unnamed: 0  Unnamed: 0.1 loan_status  Principal  terms effective_date  \\\n",
       "341         394           394  COLLECTION        800     15      9/11/2016   \n",
       "342         395           395  COLLECTION       1000     30      9/11/2016   \n",
       "343         397           397  COLLECTION        800     15      9/12/2016   \n",
       "344         398           398  COLLECTION       1000     30      9/12/2016   \n",
       "345         399           399  COLLECTION       1000     30      9/12/2016   \n",
       "\n",
       "       due_date  age             education Gender  \n",
       "341   9/25/2016   32  High School or Below   male  \n",
       "342  10/10/2016   25  High School or Below   male  \n",
       "343   9/26/2016   39               college   male  \n",
       "344  11/10/2016   28               college   male  \n",
       "345  10/11/2016   26               college   male  "
      ]
     },
     "execution_count": 6,
     "metadata": {},
     "output_type": "execute_result"
    }
   ],
   "source": [
    "loan_train_df.tail(5)"
   ]
  },
  {
   "cell_type": "code",
   "execution_count": 7,
   "id": "a1c9a67e-810f-4cc0-a6b2-a01c760a66ba",
   "metadata": {},
   "outputs": [
    {
     "data": {
      "text/html": [
       "<div>\n",
       "<style scoped>\n",
       "    .dataframe tbody tr th:only-of-type {\n",
       "        vertical-align: middle;\n",
       "    }\n",
       "\n",
       "    .dataframe tbody tr th {\n",
       "        vertical-align: top;\n",
       "    }\n",
       "\n",
       "    .dataframe thead th {\n",
       "        text-align: right;\n",
       "    }\n",
       "</style>\n",
       "<table border=\"1\" class=\"dataframe\">\n",
       "  <thead>\n",
       "    <tr style=\"text-align: right;\">\n",
       "      <th></th>\n",
       "      <th>Unnamed: 0</th>\n",
       "      <th>Unnamed: 0.1</th>\n",
       "      <th>Principal</th>\n",
       "      <th>terms</th>\n",
       "      <th>age</th>\n",
       "    </tr>\n",
       "  </thead>\n",
       "  <tbody>\n",
       "    <tr>\n",
       "      <th>count</th>\n",
       "      <td>346.000000</td>\n",
       "      <td>346.000000</td>\n",
       "      <td>346.000000</td>\n",
       "      <td>346.000000</td>\n",
       "      <td>346.000000</td>\n",
       "    </tr>\n",
       "    <tr>\n",
       "      <th>mean</th>\n",
       "      <td>202.167630</td>\n",
       "      <td>202.167630</td>\n",
       "      <td>943.641618</td>\n",
       "      <td>22.653179</td>\n",
       "      <td>30.939306</td>\n",
       "    </tr>\n",
       "    <tr>\n",
       "      <th>std</th>\n",
       "      <td>115.459715</td>\n",
       "      <td>115.459715</td>\n",
       "      <td>109.425530</td>\n",
       "      <td>7.991006</td>\n",
       "      <td>6.039418</td>\n",
       "    </tr>\n",
       "    <tr>\n",
       "      <th>min</th>\n",
       "      <td>0.000000</td>\n",
       "      <td>0.000000</td>\n",
       "      <td>300.000000</td>\n",
       "      <td>7.000000</td>\n",
       "      <td>18.000000</td>\n",
       "    </tr>\n",
       "    <tr>\n",
       "      <th>25%</th>\n",
       "      <td>107.250000</td>\n",
       "      <td>107.250000</td>\n",
       "      <td>900.000000</td>\n",
       "      <td>15.000000</td>\n",
       "      <td>27.000000</td>\n",
       "    </tr>\n",
       "    <tr>\n",
       "      <th>50%</th>\n",
       "      <td>204.500000</td>\n",
       "      <td>204.500000</td>\n",
       "      <td>1000.000000</td>\n",
       "      <td>30.000000</td>\n",
       "      <td>30.000000</td>\n",
       "    </tr>\n",
       "    <tr>\n",
       "      <th>75%</th>\n",
       "      <td>298.750000</td>\n",
       "      <td>298.750000</td>\n",
       "      <td>1000.000000</td>\n",
       "      <td>30.000000</td>\n",
       "      <td>35.000000</td>\n",
       "    </tr>\n",
       "    <tr>\n",
       "      <th>max</th>\n",
       "      <td>399.000000</td>\n",
       "      <td>399.000000</td>\n",
       "      <td>1000.000000</td>\n",
       "      <td>30.000000</td>\n",
       "      <td>51.000000</td>\n",
       "    </tr>\n",
       "  </tbody>\n",
       "</table>\n",
       "</div>"
      ],
      "text/plain": [
       "       Unnamed: 0  Unnamed: 0.1    Principal       terms         age\n",
       "count  346.000000    346.000000   346.000000  346.000000  346.000000\n",
       "mean   202.167630    202.167630   943.641618   22.653179   30.939306\n",
       "std    115.459715    115.459715   109.425530    7.991006    6.039418\n",
       "min      0.000000      0.000000   300.000000    7.000000   18.000000\n",
       "25%    107.250000    107.250000   900.000000   15.000000   27.000000\n",
       "50%    204.500000    204.500000  1000.000000   30.000000   30.000000\n",
       "75%    298.750000    298.750000  1000.000000   30.000000   35.000000\n",
       "max    399.000000    399.000000  1000.000000   30.000000   51.000000"
      ]
     },
     "execution_count": 7,
     "metadata": {},
     "output_type": "execute_result"
    }
   ],
   "source": [
    "loan_train_df.describe()"
   ]
  },
  {
   "cell_type": "code",
   "execution_count": 8,
   "id": "2f750ade-bb2d-45ec-98b8-f4337626fde7",
   "metadata": {},
   "outputs": [
    {
     "data": {
      "text/plain": [
       "Unnamed: 0         int64\n",
       "Unnamed: 0.1       int64\n",
       "loan_status       object\n",
       "Principal          int64\n",
       "terms              int64\n",
       "effective_date    object\n",
       "due_date          object\n",
       "age                int64\n",
       "education         object\n",
       "Gender            object\n",
       "dtype: object"
      ]
     },
     "execution_count": 8,
     "metadata": {},
     "output_type": "execute_result"
    }
   ],
   "source": [
    "loan_train_df.dtypes"
   ]
  },
  {
   "cell_type": "markdown",
   "id": "79140a34-6455-4f47-99a5-abf422792ae6",
   "metadata": {},
   "source": [
    "### Preprocessing and Transforming datetime columns and creating news features"
   ]
  },
  {
   "cell_type": "code",
   "execution_count": 9,
   "id": "4750fd7f-8100-4a61-a305-e98de0ff8c2a",
   "metadata": {},
   "outputs": [],
   "source": [
    "loan_train_df['effective_date'] = pd.to_datetime(loan_train_df['effective_date'])\n",
    "loan_train_df['due_date'] = pd.to_datetime(loan_train_df['due_date'])\n",
    "# creatting news features\n",
    "loan_train_df['diff_days'] = (loan_train_df['due_date']-loan_train_df['effective_date']).dt.days\n",
    "loan_train_df['day_of_pay'] = loan_train_df['effective_date'].dt.day\n",
    "loan_train_df['day_of_week_pay'] = loan_train_df['effective_date'].dt.dayofweek\n",
    "\n",
    "# applying the same to test df\n",
    "final_validation_df['effective_date'] = pd.to_datetime(final_validation_df['effective_date'])\n",
    "final_validation_df['due_date'] = pd.to_datetime(final_validation_df['due_date'])\n",
    "# creatting news features\n",
    "final_validation_df['diff_days'] = (final_validation_df['due_date']-final_validation_df['effective_date']).dt.days\n",
    "final_validation_df['day_of_pay'] = final_validation_df['effective_date'].dt.day\n",
    "final_validation_df['day_of_week_pay'] = final_validation_df['effective_date'].dt.dayofweek"
   ]
  },
  {
   "cell_type": "markdown",
   "id": "2546d0fa-f10b-48f6-8e67-85a3d55f8cb3",
   "metadata": {},
   "source": [
    "#### Dropping first and second columns because it looks index and have the same values"
   ]
  },
  {
   "cell_type": "code",
   "execution_count": 10,
   "id": "f55507a4-78f3-4c72-8927-8b3ce243c9a8",
   "metadata": {},
   "outputs": [
    {
     "data": {
      "text/plain": [
       "True"
      ]
     },
     "execution_count": 10,
     "metadata": {},
     "output_type": "execute_result"
    }
   ],
   "source": [
    "all(loan_train_df['Unnamed: 0'] == loan_train_df['Unnamed: 0.1'])"
   ]
  },
  {
   "cell_type": "code",
   "execution_count": 11,
   "id": "be63a541-7f15-4f01-b1bc-7d799b3ac173",
   "metadata": {},
   "outputs": [
    {
     "data": {
      "text/html": [
       "<div>\n",
       "<style scoped>\n",
       "    .dataframe tbody tr th:only-of-type {\n",
       "        vertical-align: middle;\n",
       "    }\n",
       "\n",
       "    .dataframe tbody tr th {\n",
       "        vertical-align: top;\n",
       "    }\n",
       "\n",
       "    .dataframe thead th {\n",
       "        text-align: right;\n",
       "    }\n",
       "</style>\n",
       "<table border=\"1\" class=\"dataframe\">\n",
       "  <thead>\n",
       "    <tr style=\"text-align: right;\">\n",
       "      <th></th>\n",
       "      <th>loan_status</th>\n",
       "      <th>Principal</th>\n",
       "      <th>terms</th>\n",
       "      <th>effective_date</th>\n",
       "      <th>due_date</th>\n",
       "      <th>age</th>\n",
       "      <th>education</th>\n",
       "      <th>Gender</th>\n",
       "      <th>diff_days</th>\n",
       "      <th>day_of_pay</th>\n",
       "      <th>day_of_week_pay</th>\n",
       "    </tr>\n",
       "  </thead>\n",
       "  <tbody>\n",
       "    <tr>\n",
       "      <th>0</th>\n",
       "      <td>PAIDOFF</td>\n",
       "      <td>1000</td>\n",
       "      <td>30</td>\n",
       "      <td>2016-09-08</td>\n",
       "      <td>2016-10-07</td>\n",
       "      <td>45</td>\n",
       "      <td>High School or Below</td>\n",
       "      <td>male</td>\n",
       "      <td>29</td>\n",
       "      <td>8</td>\n",
       "      <td>3</td>\n",
       "    </tr>\n",
       "    <tr>\n",
       "      <th>1</th>\n",
       "      <td>PAIDOFF</td>\n",
       "      <td>1000</td>\n",
       "      <td>30</td>\n",
       "      <td>2016-09-08</td>\n",
       "      <td>2016-10-07</td>\n",
       "      <td>33</td>\n",
       "      <td>Bechalor</td>\n",
       "      <td>female</td>\n",
       "      <td>29</td>\n",
       "      <td>8</td>\n",
       "      <td>3</td>\n",
       "    </tr>\n",
       "    <tr>\n",
       "      <th>2</th>\n",
       "      <td>PAIDOFF</td>\n",
       "      <td>1000</td>\n",
       "      <td>15</td>\n",
       "      <td>2016-09-08</td>\n",
       "      <td>2016-09-22</td>\n",
       "      <td>27</td>\n",
       "      <td>college</td>\n",
       "      <td>male</td>\n",
       "      <td>14</td>\n",
       "      <td>8</td>\n",
       "      <td>3</td>\n",
       "    </tr>\n",
       "    <tr>\n",
       "      <th>3</th>\n",
       "      <td>PAIDOFF</td>\n",
       "      <td>1000</td>\n",
       "      <td>30</td>\n",
       "      <td>2016-09-09</td>\n",
       "      <td>2016-10-08</td>\n",
       "      <td>28</td>\n",
       "      <td>college</td>\n",
       "      <td>female</td>\n",
       "      <td>29</td>\n",
       "      <td>9</td>\n",
       "      <td>4</td>\n",
       "    </tr>\n",
       "    <tr>\n",
       "      <th>4</th>\n",
       "      <td>PAIDOFF</td>\n",
       "      <td>1000</td>\n",
       "      <td>30</td>\n",
       "      <td>2016-09-09</td>\n",
       "      <td>2016-10-08</td>\n",
       "      <td>29</td>\n",
       "      <td>college</td>\n",
       "      <td>male</td>\n",
       "      <td>29</td>\n",
       "      <td>9</td>\n",
       "      <td>4</td>\n",
       "    </tr>\n",
       "  </tbody>\n",
       "</table>\n",
       "</div>"
      ],
      "text/plain": [
       "  loan_status  Principal  terms effective_date   due_date  age  \\\n",
       "0     PAIDOFF       1000     30     2016-09-08 2016-10-07   45   \n",
       "1     PAIDOFF       1000     30     2016-09-08 2016-10-07   33   \n",
       "2     PAIDOFF       1000     15     2016-09-08 2016-09-22   27   \n",
       "3     PAIDOFF       1000     30     2016-09-09 2016-10-08   28   \n",
       "4     PAIDOFF       1000     30     2016-09-09 2016-10-08   29   \n",
       "\n",
       "              education  Gender  diff_days  day_of_pay  day_of_week_pay  \n",
       "0  High School or Below    male         29           8                3  \n",
       "1              Bechalor  female         29           8                3  \n",
       "2               college    male         14           8                3  \n",
       "3               college  female         29           9                4  \n",
       "4               college    male         29           9                4  "
      ]
     },
     "execution_count": 11,
     "metadata": {},
     "output_type": "execute_result"
    }
   ],
   "source": [
    "loan_train_df = loan_train_df.drop(['Unnamed: 0', 'Unnamed: 0.1'], axis=1)\n",
    "final_validation_df = final_validation_df.drop(['Unnamed: 0', 'Unnamed: 0.1'], axis=1)\n",
    "loan_train_df.head(5)"
   ]
  },
  {
   "cell_type": "code",
   "execution_count": 12,
   "id": "acabd1d0-60da-4ce9-b71b-e98432846251",
   "metadata": {},
   "outputs": [
    {
     "data": {
      "text/plain": [
       "education             Gender  loan_status\n",
       "Bechalor              female  PAIDOFF        1.000000\n",
       "                      male    PAIDOFF        0.676471\n",
       "                              COLLECTION     0.323529\n",
       "High School or Below  female  PAIDOFF        0.800000\n",
       "                              COLLECTION     0.200000\n",
       "                      male    PAIDOFF        0.732824\n",
       "                              COLLECTION     0.267176\n",
       "Master or Above       male    COLLECTION     0.500000\n",
       "                              PAIDOFF        0.500000\n",
       "college               female  PAIDOFF        0.863636\n",
       "                              COLLECTION     0.136364\n",
       "                      male    PAIDOFF        0.748031\n",
       "                              COLLECTION     0.251969\n",
       "Name: loan_status, dtype: float64"
      ]
     },
     "execution_count": 12,
     "metadata": {},
     "output_type": "execute_result"
    }
   ],
   "source": [
    "loan_train_df.groupby(['education', 'Gender'])['loan_status'].value_counts(normalize=True)"
   ]
  },
  {
   "cell_type": "code",
   "execution_count": 13,
   "id": "edb732cb-f412-49a7-b3ea-3e9ee1701304",
   "metadata": {},
   "outputs": [
    {
     "data": {
      "image/png": "[encoded data removed]",
      "text/plain": [
       "<Figure size 432x288 with 1 Axes>"
      ]
     },
     "metadata": {
      "needs_background": "light"
     },
     "output_type": "display_data"
    }
   ],
   "source": [
    "loan_train_df['loan_status'].value_counts().plot(kind='bar')\n",
    "plt.grid()"
   ]
  },
  {
   "cell_type": "code",
   "execution_count": 14,
   "id": "79297d4c-5115-4a40-8e1b-5a751e2bc7b6",
   "metadata": {},
   "outputs": [
    {
     "data": {
      "image/png": "[encoded data removed]",
      "text/plain": [
       "<Figure size 432x288 with 1 Axes>"
      ]
     },
     "metadata": {
      "needs_background": "light"
     },
     "output_type": "display_data"
    }
   ],
   "source": [
    "# loan_train_df[['education', 'Gender']].value_counts()\n",
    "loan_train_df[['education', 'Gender']].value_counts().plot(kind='bar')\n",
    "plt.grid()"
   ]
  },
  {
   "cell_type": "markdown",
   "id": "a780de1c-ea2c-4943-a324-5748659d0f73",
   "metadata": {},
   "source": [
    "### Getting the main columns values and get their values for X_train and X_test"
   ]
  },
  {
   "cell_type": "code",
   "execution_count": 15,
   "id": "62f3e1ce-9b0a-472d-b118-6c9822bb4a54",
   "metadata": {},
   "outputs": [],
   "source": [
    "columns_x = ['Principal', 'terms', 'age', 'education', 'Gender', 'diff_days', 'diff_days', 'day_of_pay', 'day_of_week_pay']\n",
    "X = loan_train_df[columns_x].values  #.astype(float)\n",
    "X_final_test = final_validation_df[columns_x].values\n",
    "Y = loan_train_df['loan_status'].values\n",
    "y_final_test = final_validation_df['loan_status'].values"
   ]
  },
  {
   "cell_type": "markdown",
   "id": "d4c0f046-0b90-4b3a-95be-ed56e5d942ca",
   "metadata": {},
   "source": [
    "### Encoding some variables as gender, education for X and Y and X and Y from the final validations df"
   ]
  },
  {
   "cell_type": "code",
   "execution_count": 16,
   "id": "a9024119-14fb-4c51-bc92-05819b76acff",
   "metadata": {},
   "outputs": [],
   "source": [
    "le_gender = preprocessing.LabelEncoder()\n",
    "le_gender.fit(loan_train_df.Gender.unique().tolist())\n",
    "idx = columns_x.index('Gender')\n",
    "X[:,idx] = le_gender.transform(X[:,idx])\n",
    "X_final_test[:,idx] = le_gender.transform(X_final_test[:,idx]) \n",
    "\n",
    "\n",
    "le_edu = preprocessing.LabelEncoder()\n",
    "le_edu.fit(loan_train_df.education.unique())\n",
    "idx = columns_x.index('education')\n",
    "X[:,idx] = le_edu.transform(X[:,idx])\n",
    "X_final_test[:,idx] = le_edu.transform(X_final_test[:,idx])\n",
    "del idx\n",
    "\n",
    "le_status = preprocessing.LabelEncoder()\n",
    "le_status.fit(loan_train_df.loan_status.unique())\n",
    "Y = le_status.transform(Y)\n",
    "y_final_test = le_status.transform(y_final_test)"
   ]
  },
  {
   "cell_type": "markdown",
   "id": "7b4db5e0-2600-44ce-a568-cb7abe9aca9e",
   "metadata": {},
   "source": [
    "### Splitting X and Y for train and test"
   ]
  },
  {
   "cell_type": "code",
   "execution_count": 17,
   "id": "f6456275-6ba2-4ef3-a51c-1bff625ac37f",
   "metadata": {},
   "outputs": [
    {
     "name": "stdout",
     "output_type": "stream",
     "text": [
      "Train set: (276, 9) (276,)\n",
      "Test set: (70, 9) (70,)\n"
     ]
    }
   ],
   "source": [
    "X_train, X_test, y_train, y_test = train_test_split(\n",
    "    X, \n",
    "    Y, \n",
    "    test_size=0.2, \n",
    "    random_state=4)\n",
    "\n",
    "print ('Train set:', X_train.shape,  y_train.shape)\n",
    "print ('Test set:', X_test.shape,  y_test.shape)"
   ]
  },
  {
   "cell_type": "code",
   "execution_count": 18,
   "id": "ae7d9cf7-8f79-452d-b444-1336d8e9e871",
   "metadata": {},
   "outputs": [
    {
     "data": {
      "text/plain": [
       "array([[1000, 15, 35, 3, 1, 14, 14, 12, 0],\n",
       "       [1000, 30, 26, 1, 1, 29, 29, 11, 6],\n",
       "       [1000, 30, 31, 3, 1, 29, 29, 14, 2],\n",
       "       [1000, 15, 25, 3, 1, 14, 14, 11, 6],\n",
       "       [1000, 30, 28, 3, 1, 29, 29, 14, 2]], dtype=object)"
      ]
     },
     "execution_count": 18,
     "metadata": {},
     "output_type": "execute_result"
    }
   ],
   "source": [
    "X_train[0:5]"
   ]
  },
  {
   "cell_type": "code",
   "execution_count": 19,
   "id": "814006a7-78de-4d4a-a85c-998cd89e4380",
   "metadata": {},
   "outputs": [
    {
     "data": {
      "text/plain": [
       "array([[ 0.56081126, -0.9677917 ,  0.69858179,  1.15686159,  0.40565621,\n",
       "        -0.87391174, -0.87391174,  0.41613766, -1.38869051],\n",
       "       [ 0.56081126,  0.9437816 , -0.81959596, -0.58791327,  0.40565621,\n",
       "         0.5393674 ,  0.5393674 , -0.428377  ,  0.91558954],\n",
       "       [ 0.56081126,  0.9437816 ,  0.02383612,  1.15686159,  0.40565621,\n",
       "         0.5393674 ,  0.5393674 ,  2.10516697, -0.62059716],\n",
       "       [ 0.56081126, -0.9677917 , -0.98828237,  1.15686159,  0.40565621,\n",
       "        -0.87391174, -0.87391174, -0.428377  ,  0.91558954],\n",
       "       [ 0.56081126,  0.9437816 , -0.48222312,  1.15686159,  0.40565621,\n",
       "         0.5393674 ,  0.5393674 ,  2.10516697, -0.62059716]])"
      ]
     },
     "execution_count": 19,
     "metadata": {},
     "output_type": "execute_result"
    }
   ],
   "source": [
    "#Normalize the data\n",
    "X_train = preprocessing.StandardScaler().fit(X_train).transform(X_train.astype(float))\n",
    "X_final_test = preprocessing.StandardScaler().fit(X_train).transform(X_final_test.astype(float))\n",
    "X_test = preprocessing.StandardScaler().fit(X_test).transform(X_test.astype(float))\n",
    "X_train[0:5]"
   ]
  },
  {
   "cell_type": "markdown",
   "id": "0c14643c-78b9-4fc6-ab00-53bb2dcc9da4",
   "metadata": {},
   "source": [
    "# Trainning  a KNN  model\n",
    "\n",
    "Finding the best K"
   ]
  },
  {
   "cell_type": "code",
   "execution_count": 20,
   "id": "0ae6f721-0cdf-41a6-a28a-605c8d9e0588",
   "metadata": {},
   "outputs": [
    {
     "data": {
      "image/png": "[encoded data removed]",
      "text/plain": [
       "<Figure size 432x288 with 1 Axes>"
      ]
     },
     "metadata": {
      "needs_background": "light"
     },
     "output_type": "display_data"
    }
   ],
   "source": [
    "Ks = 15\n",
    "mean_acc = np.zeros((Ks-1))\n",
    "std_acc = np.zeros((Ks-1))\n",
    "\n",
    "for n in range(1, Ks):\n",
    "    # Train Model and Predict\n",
    "    neigh = KNeighborsClassifier(n_neighbors=n).fit(X_train, y_train)\n",
    "    yhat = neigh.predict(X_test)\n",
    "    mean_acc[n-1] = accuracy_score(y_test, yhat)\n",
    "    std_acc[n-1] = np.std(yhat == y_test) / np.sqrt(yhat.shape[0])\n",
    "\n",
    "plt.plot(range(1, Ks), mean_acc, 'g')\n",
    "plt.fill_between(\n",
    "    range(1, Ks),\n",
    "    mean_acc - 1 * std_acc,\n",
    "    mean_acc + 1 * std_acc,\n",
    "    alpha=0.10)\n",
    "plt.fill_between(\n",
    "    range(1, Ks),\n",
    "    mean_acc - 3 * std_acc,\n",
    "    mean_acc + 3 * std_acc,\n",
    "    alpha=0.10,\n",
    "    color=\"green\")\n",
    "plt.legend(('Accuracy ', '+/- 1xstd', '+/- 3xstd'))\n",
    "plt.ylabel('Accuracy ')\n",
    "plt.xlabel('Number of Neighbors (K)')\n",
    "plt.tight_layout()\n",
    "plt.title('Comparision among differents k')\n",
    "plt.xticks(range(1, 15))\n",
    "plt.show()"
   ]
  },
  {
   "cell_type": "markdown",
   "id": "1d281249-2aac-471b-b832-d74a0a1d764b",
   "metadata": {},
   "source": [
    "The best k neighbors is 5"
   ]
  },
  {
   "cell_type": "code",
   "execution_count": 21,
   "id": "47a99219-43c6-437a-b6b4-3826f225077b",
   "metadata": {},
   "outputs": [
    {
     "data": {
      "text/plain": [
       "KNeighborsClassifier()"
      ]
     },
     "execution_count": 21,
     "metadata": {},
     "output_type": "execute_result"
    }
   ],
   "source": [
    "k = 5\n",
    "# Train Model and Predict\n",
    "neigh = KNeighborsClassifier(n_neighbors=k).fit(X_train, y_train)\n",
    "neigh"
   ]
  },
  {
   "cell_type": "code",
   "execution_count": 22,
   "id": "f3baff8d-1d5b-4e06-81c2-f14f1c2c0099",
   "metadata": {},
   "outputs": [
    {
     "name": "stdout",
     "output_type": "stream",
     "text": [
      "Train set Accuracy jaccard:  0.7669491525423728\n",
      "Train set Accuracy f1 score:  0.7972308143823106\n",
      "Train set Accuracy log loss:  6.882816990001534 \n",
      "\n",
      "Test set Accuracy jaccard:  0.734375\n",
      "Test set Accuracy f1 score:  0.7540496161185816\n",
      "Test set Accuracy log loss:  8.38809135843362 \n",
      "\n",
      "File test Accuracy jaccard:  0.7115384615384616\n",
      "File test Accuracy f1 score:  0.6704776923582364\n",
      "File test Accuracy log loss:  9.594282242459677\n"
     ]
    }
   ],
   "source": [
    "print(\"Train set Accuracy jaccard: \",\n",
    "      jaccard_score(y_train, neigh.predict(X_train), average='binary'))\n",
    "print(\"Train set Accuracy f1 score: \",\n",
    "      f1_score(y_train, neigh.predict(X_train), average='weighted'))\n",
    "print(\"Train set Accuracy log loss: \",\n",
    "      log_loss(y_train, neigh.predict(X_train)), '\\n')\n",
    "\n",
    "print(\"Test set Accuracy jaccard: \",\n",
    "      jaccard_score(y_test, neigh.predict(X_test), average='binary'))\n",
    "print(\"Test set Accuracy f1 score: \",\n",
    "      f1_score(y_test, neigh.predict(X_test), average='weighted'))\n",
    "print(\"Test set Accuracy log loss: \",\n",
    "      log_loss(y_test, neigh.predict(X_test)), '\\n')\n",
    "\n",
    "print(\"File test Accuracy jaccard: \",\n",
    "      jaccard_score(y_final_test, neigh.predict(X_final_test), average='binary'))\n",
    "print(\"File test Accuracy f1 score: \",\n",
    "      f1_score(y_final_test, neigh.predict(X_final_test), average='weighted'))\n",
    "print(\"File test Accuracy log loss: \",\n",
    "      log_loss(y_final_test, neigh.predict(X_final_test)))"
   ]
  },
  {
   "cell_type": "markdown",
   "id": "2454971d-1785-41af-8b56-bf8de2d0b394",
   "metadata": {},
   "source": [
    "# Trainning  a Decision Tree model"
   ]
  },
  {
   "cell_type": "code",
   "execution_count": 23,
   "id": "bfc5f51f-e183-443f-9c2d-da7c8a445a66",
   "metadata": {},
   "outputs": [
    {
     "data": {
      "text/plain": [
       "DecisionTreeClassifier(criterion='entropy', max_depth=4)"
      ]
     },
     "execution_count": 23,
     "metadata": {},
     "output_type": "execute_result"
    }
   ],
   "source": [
    "deTree = DecisionTreeClassifier(criterion=\"entropy\", max_depth=4)\n",
    "deTree.fit(X_train, y_train)"
   ]
  },
  {
   "cell_type": "code",
   "execution_count": 24,
   "id": "37ddc5d8-5216-458b-8fb9-a66d9bc1a5c9",
   "metadata": {},
   "outputs": [
    {
     "name": "stdout",
     "output_type": "stream",
     "text": [
      "Train set Accuracy jaccard:  0.6916299559471366\n",
      "Train set Accuracy f1 score:  0.757416213768116\n",
      "Train set Accuracy log loss:  8.759898328939174 \n",
      "\n",
      "Test set Accuracy jaccard:  0.5846153846153846\n",
      "Test set Accuracy f1 score:  0.6376654046556961\n",
      "Test set Accuracy log loss:  13.322213694812719 \n",
      "\n",
      "File test Accuracy jaccard:  0.7407407407407407\n",
      "File test Accuracy f1 score:  0.6304176516942475\n",
      "File test Accuracy log loss:  8.95470488690319\n"
     ]
    }
   ],
   "source": [
    "print(\"Train set Accuracy jaccard: \",\n",
    "      jaccard_score(y_train, deTree.predict(X_train), average='binary'))\n",
    "print(\"Train set Accuracy f1 score: \",\n",
    "      f1_score(y_train, deTree.predict(X_train), average='weighted'))\n",
    "print(\"Train set Accuracy log loss: \",\n",
    "      log_loss(y_train, deTree.predict(X_train)), '\\n')\n",
    "\n",
    "print(\"Test set Accuracy jaccard: \",\n",
    "      jaccard_score(y_test, deTree.predict(X_test), average='binary'))\n",
    "print(\"Test set Accuracy f1 score: \",\n",
    "      f1_score(y_test, deTree.predict(X_test), average='weighted'))\n",
    "print(\"Test set Accuracy log loss: \",\n",
    "      log_loss(y_test, deTree.predict(X_test)), '\\n')\n",
    "\n",
    "print(\"File test Accuracy jaccard: \",\n",
    "      jaccard_score(y_final_test, deTree.predict(X_final_test), average='binary'))\n",
    "print(\"File test Accuracy f1 score: \",\n",
    "      f1_score(y_final_test, deTree.predict(X_final_test), average='weighted'))\n",
    "print(\"File test Accuracy log loss: \",\n",
    "      log_loss(y_final_test, deTree.predict(X_final_test)))"
   ]
  },
  {
   "cell_type": "markdown",
   "id": "a56c7bab-9e91-4c24-812b-894fd5721a04",
   "metadata": {},
   "source": [
    "# Trainning  a SVM model"
   ]
  },
  {
   "cell_type": "code",
   "execution_count": 25,
   "id": "d5301f28-7e44-4986-b1e6-8061ed377898",
   "metadata": {},
   "outputs": [
    {
     "data": {
      "text/plain": [
       "SVC()"
      ]
     },
     "execution_count": 25,
     "metadata": {},
     "output_type": "execute_result"
    }
   ],
   "source": [
    "clf = svm.SVC(kernel='rbf')\n",
    "clf.fit(X_train, y_train)"
   ]
  },
  {
   "cell_type": "code",
   "execution_count": 26,
   "id": "7396c81b-00c0-4430-88f0-c6abf9b96d0b",
   "metadata": {},
   "outputs": [
    {
     "name": "stdout",
     "output_type": "stream",
     "text": [
      "Train set Accuracy jaccard:  0.7565543071161048\n",
      "Train set Accuracy f1 score:  0.6956017264571404\n",
      "Train set Accuracy log loss:  8.134311741702415 \n",
      "\n",
      "Test set Accuracy jaccard:  0.782608695652174\n",
      "Test set Accuracy f1 score:  0.7151055544168887\n",
      "Test set Accuracy log loss:  7.401326289824044 \n",
      "\n",
      "File test Accuracy jaccard:  0.7407407407407407\n",
      "File test Accuracy f1 score:  0.6304176516942475\n",
      "File test Accuracy log loss:  8.95470488690319\n"
     ]
    }
   ],
   "source": [
    "print(\"Train set Accuracy jaccard: \",\n",
    "      jaccard_score(y_train, clf.predict(X_train), average='binary'))\n",
    "print(\"Train set Accuracy f1 score: \",\n",
    "      f1_score(y_train, clf.predict(X_train), average='weighted'))\n",
    "print(\"Train set Accuracy log loss: \",\n",
    "      log_loss(y_train, clf.predict(X_train)), '\\n')\n",
    "\n",
    "print(\"Test set Accuracy jaccard: \",\n",
    "      jaccard_score(y_test, clf.predict(X_test), average='binary'))\n",
    "print(\"Test set Accuracy f1 score: \",\n",
    "      f1_score(y_test, clf.predict(X_test), average='weighted'))\n",
    "print(\"Test set Accuracy log loss: \",\n",
    "      log_loss(y_test, clf.predict(X_test)), '\\n')\n",
    "\n",
    "print(\"File test Accuracy jaccard: \",\n",
    "      jaccard_score(y_final_test, clf.predict(X_final_test), average='binary'))\n",
    "print(\"File test Accuracy f1 score: \",\n",
    "      f1_score(y_final_test, clf.predict(X_final_test), average='weighted'))\n",
    "print(\"File test Accuracy log loss: \",\n",
    "      log_loss(y_final_test, clf.predict(X_final_test)))"
   ]
  },
  {
   "cell_type": "markdown",
   "id": "a5ac87e4-d45f-488c-86c3-4cc944da87d5",
   "metadata": {},
   "source": [
    "# Trainning  a Logistic Regression model"
   ]
  },
  {
   "cell_type": "code",
   "execution_count": 27,
   "id": "fa01b9bf-6f54-4be2-a8e6-5b73c8878eaf",
   "metadata": {},
   "outputs": [
    {
     "data": {
      "text/plain": [
       "LogisticRegression(C=0.01, solver='liblinear')"
      ]
     },
     "execution_count": 27,
     "metadata": {},
     "output_type": "execute_result"
    }
   ],
   "source": [
    "logReg = LogisticRegression(C=0.01, solver='liblinear')\n",
    "logReg.fit(X_train, y_train)"
   ]
  },
  {
   "cell_type": "code",
   "execution_count": 28,
   "id": "02df6a40-9775-4166-8b9c-ab18b5ed5b78",
   "metadata": {},
   "outputs": [
    {
     "name": "stdout",
     "output_type": "stream",
     "text": [
      "Train set Accuracy jaccard:  0.7161016949152542\n",
      "Train set Accuracy f1 score:  0.7598763606355048\n",
      "Train set Accuracy log loss:  8.384502920215043 \n",
      "\n",
      "Test set Accuracy jaccard:  0.6029411764705882\n",
      "Test set Accuracy f1 score:  0.6187375808565511\n",
      "Test set Accuracy log loss:  13.322247963274014 \n",
      "\n",
      "File test Accuracy jaccard:  0.2682926829268293\n",
      "File test Accuracy f1 score:  0.4337606837606838\n",
      "File test Accuracy log loss:  19.188223915643533\n"
     ]
    }
   ],
   "source": [
    "print(\"Train set Accuracy jaccard: \",\n",
    "      jaccard_score(y_train, logReg.predict(X_train), average='binary'))\n",
    "print(\"Train set Accuracy f1 score: \",\n",
    "      f1_score(y_train, logReg.predict(X_train), average='weighted'))\n",
    "print(\"Train set Accuracy log loss: \",\n",
    "      log_loss(y_train, logReg.predict(X_train)), '\\n')\n",
    "\n",
    "print(\"Test set Accuracy jaccard: \",\n",
    "      jaccard_score(y_test, logReg.predict(X_test), average='binary'))\n",
    "print(\"Test set Accuracy f1 score: \",\n",
    "      f1_score(y_test, logReg.predict(X_test), average='weighted'))\n",
    "print(\"Test set Accuracy log loss: \",\n",
    "      log_loss(y_test, logReg.predict(X_test)), '\\n')\n",
    "\n",
    "print(\"File test Accuracy jaccard: \",\n",
    "      jaccard_score(y_final_test, logReg.predict(X_final_test), average='binary'))\n",
    "print(\"File test Accuracy f1 score: \",\n",
    "      f1_score(y_final_test, logReg.predict(X_final_test), average='weighted'))\n",
    "print(\"File test Accuracy log loss: \",\n",
    "      log_loss(y_final_test, logReg.predict(X_final_test)))"
   ]
  },
  {
   "cell_type": "markdown",
   "id": "06eb01a7-558b-4fac-a161-56a78243b61f",
   "metadata": {},
   "source": [
    "## REPORT from test file\n",
    "\n",
    "| Algorithm          | Jaccard | F1-score | LogLoss |\n",
    "|--------------------|---------|----------|---------|\n",
    "| KNN                | 0.711   | 0.670    |  9.594  |\n",
    "| Decision Tree      | 0.740   | 0.630    |  8.954  |\n",
    "| SVM                | 0.740   | 0.630    |  8.954  |\n",
    "| LogisticRegression | 0.268   | 0.433    |  19.188 |"
   ]
  },
  {
   "cell_type": "markdown",
   "id": "3cb86cce-870f-4b53-acaf-5b29adc62e31",
   "metadata": {},
   "source": [
    "## REPORT from test train\n",
    "\n",
    "| Algorithm          | Jaccard | F1-score | LogLoss |\n",
    "|--------------------|---------|----------|---------|\n",
    "| KNN                | 0.734   |   0.754  |  8.388  |\n",
    "| Decision Tree      | 0.584   |   0.637  |  13.322 |\n",
    "| SVM                | 0.782   |   0.715  |  7.401  |\n",
    "| LogisticRegression | 0.602   |   0.618  |  13.322 |"
   ]
  },
  {
   "cell_type": "code",
   "execution_count": null,
   "id": "37252ede-a8b1-4d87-83ba-5cf14fae0769",
   "metadata": {},
   "outputs": [],
   "source": []
  }
 ],
 "metadata": {
  "kernelspec": {
   "display_name": "Python",
   "language": "python",
   "name": "conda-env-python-py"
  },
  "language_info": {
   "codemirror_mode": {
    "name": "ipython",
    "version": 3
   },
   "file_extension": ".py",
   "mimetype": "text/x-python",
   "name": "python",
   "nbconvert_exporter": "python",
   "pygments_lexer": "ipython3",
   "version": "3.6.13"
  }
 },
 "nbformat": 4,
 "nbformat_minor": 5
}
